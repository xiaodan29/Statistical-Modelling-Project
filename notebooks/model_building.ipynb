{
 "cells": [
  {
   "cell_type": "markdown",
   "metadata": {},
   "source": [
    "Build a regression model."
   ]
  },
  {
   "cell_type": "code",
   "execution_count": 1,
   "metadata": {
    "tags": []
   },
   "outputs": [],
   "source": [
    "import statsmodels.api as sm\n",
    "import pandas as pd\n",
    "\n",
    "# load the citybike dataset\n",
    "citybk = pd.read_csv('citybike_combin.csv')\n"
   ]
  },
  {
   "cell_type": "code",
   "execution_count": 3,
   "metadata": {},
   "outputs": [],
   "source": [
    "X = sm.add_constant(X)\n",
    "y = citybk['num_bikes']\n",
    "lin_reg = sm.OLS(y,X)"
   ]
  },
  {
   "cell_type": "code",
   "execution_count": 4,
   "metadata": {
    "tags": []
   },
   "outputs": [
    {
     "name": "stdout",
     "output_type": "stream",
     "text": [
      "                            OLS Regression Results                            \n",
      "==============================================================================\n",
      "Dep. Variable:              num_bikes   R-squared:                       0.006\n",
      "Model:                            OLS   Adj. R-squared:                  0.006\n",
      "Method:                 Least Squares   F-statistic:                     37.57\n",
      "Date:                Sun, 26 Feb 2023   Prob (F-statistic):           5.43e-17\n",
      "Time:                        17:47:43   Log-Likelihood:                -36569.\n",
      "No. Observations:               11803   AIC:                         7.314e+04\n",
      "Df Residuals:                   11800   BIC:                         7.317e+04\n",
      "Df Model:                           2                                         \n",
      "Covariance Type:            nonrobust                                         \n",
      "===============================================================================\n",
      "                  coef    std err          t      P>|t|      [0.025      0.975]\n",
      "-------------------------------------------------------------------------------\n",
      "const           4.4504      0.567      7.848      0.000       3.339       5.562\n",
      "restaurants    -0.0136      0.008     -1.714      0.086      -0.029       0.002\n",
      "rating          1.1151      0.130      8.551      0.000       0.859       1.371\n",
      "==============================================================================\n",
      "Omnibus:                     1557.697   Durbin-Watson:                   0.038\n",
      "Prob(Omnibus):                  0.000   Jarque-Bera (JB):             2274.805\n",
      "Skew:                           0.992   Prob(JB):                         0.00\n",
      "Kurtosis:                       3.830   Cond. No.                         563.\n",
      "==============================================================================\n",
      "\n",
      "Notes:\n",
      "[1] Standard Errors assume that the covariance matrix of the errors is correctly specified.\n"
     ]
    }
   ],
   "source": [
    "model = lin_reg.fit()\n",
    "print_model = model.summary()\n",
    "print(print_model)"
   ]
  },
  {
   "cell_type": "markdown",
   "metadata": {},
   "source": [
    "- Based on the results, the R-squared value of the model is 0.006, indicating that only a small proportion of the variance in the number of bikes can be explained by the characteristics of the POIs( in my case, which are restaurants and ratings for each restausrants). \n",
    "- The p-values of the coefficients suggest that the rating of the POIs is a significant predictor of the number of bikes, with a coefficient of 1.1151 and a p-value of 0.000. However, the number of restaurants is not a significant predictor of the number of bikes, with a coefficient of -0.0136 and a p-value of 0.086, which is higher than the standard threshold of 0.05.\n",
    "\n",
    "- Overall, the model suggests that the rating of the POIs can be a better predictor of the number of bikes compared to the number of restaurants in a location. But, we can see that the R-squared value of the model is very low, indicating that there might be other factors that influence the number of bikes in a location.So we need to get more variable data to do the further analysis."
   ]
  },
  {
   "cell_type": "markdown",
   "metadata": {},
   "source": [
    "# Stretch"
   ]
  },
  {
   "cell_type": "markdown",
   "metadata": {},
   "source": [
    "How can you turn the regression model into a classification model?"
   ]
  },
  {
   "cell_type": "code",
   "execution_count": null,
   "metadata": {},
   "outputs": [],
   "source": []
  }
 ],
 "metadata": {
  "kernelspec": {
   "display_name": "Python 3 (ipykernel)",
   "language": "python",
   "name": "python3"
  },
  "language_info": {
   "codemirror_mode": {
    "name": "ipython",
    "version": 3
   },
   "file_extension": ".py",
   "mimetype": "text/x-python",
   "name": "python",
   "nbconvert_exporter": "python",
   "pygments_lexer": "ipython3",
   "version": "3.10.9"
  }
 },
 "nbformat": 4,
 "nbformat_minor": 4
}
