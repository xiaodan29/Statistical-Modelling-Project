{
 "cells": [
  {
   "cell_type": "code",
   "execution_count": null,
   "metadata": {},
   "outputs": [],
   "source": [
    "# imports"
   ]
  },
  {
   "cell_type": "markdown",
   "metadata": {},
   "source": [
    "# Foursquare"
   ]
  },
  {
   "cell_type": "markdown",
   "metadata": {},
   "source": [
    "- Send a request to Foursquare with a small radius (1000m) for all the bike stations in your city of choice. "
   ]
  },
  {
   "cell_type": "code",
   "execution_count": 1,
   "metadata": {
    "tags": []
   },
   "outputs": [],
   "source": [
    "import requests\n",
    "import json\n",
    "import pandas as pd\n",
    "import numpy as np\n",
    "import os"
   ]
  },
  {
   "cell_type": "code",
   "execution_count": 2,
   "metadata": {
    "tags": []
   },
   "outputs": [
    {
     "name": "stdout",
     "output_type": "stream",
     "text": [
      "(241, 5)\n"
     ]
    },
    {
     "data": {
      "text/html": [
       "<div>\n",
       "<style scoped>\n",
       "    .dataframe tbody tr th:only-of-type {\n",
       "        vertical-align: middle;\n",
       "    }\n",
       "\n",
       "    .dataframe tbody tr th {\n",
       "        vertical-align: top;\n",
       "    }\n",
       "\n",
       "    .dataframe thead th {\n",
       "        text-align: right;\n",
       "    }\n",
       "</style>\n",
       "<table border=\"1\" class=\"dataframe\">\n",
       "  <thead>\n",
       "    <tr style=\"text-align: right;\">\n",
       "      <th></th>\n",
       "      <th>latitude</th>\n",
       "      <th>longitude</th>\n",
       "      <th>num_bikes</th>\n",
       "      <th>uniqueId</th>\n",
       "      <th>ll</th>\n",
       "    </tr>\n",
       "  </thead>\n",
       "  <tbody>\n",
       "    <tr>\n",
       "      <th>0</th>\n",
       "      <td>49.262487</td>\n",
       "      <td>-123.114397</td>\n",
       "      <td>21</td>\n",
       "      <td>7a19c49f486d7c0c02b3685d7b240448</td>\n",
       "      <td>49.262487,-123.114397</td>\n",
       "    </tr>\n",
       "    <tr>\n",
       "      <th>1</th>\n",
       "      <td>49.274566</td>\n",
       "      <td>-123.121817</td>\n",
       "      <td>9</td>\n",
       "      <td>32603a87cfca71d0f7dfa3513bad69d5</td>\n",
       "      <td>49.274566,-123.121817</td>\n",
       "    </tr>\n",
       "    <tr>\n",
       "      <th>2</th>\n",
       "      <td>49.279764</td>\n",
       "      <td>-123.110154</td>\n",
       "      <td>13</td>\n",
       "      <td>6d42fa40360f9a6b2bf641c7b8bb2862</td>\n",
       "      <td>49.279764,-123.110154</td>\n",
       "    </tr>\n",
       "    <tr>\n",
       "      <th>3</th>\n",
       "      <td>49.260599</td>\n",
       "      <td>-123.113504</td>\n",
       "      <td>2</td>\n",
       "      <td>66f873d641d448bd1572ab086665a458</td>\n",
       "      <td>49.260599,-123.113504</td>\n",
       "    </tr>\n",
       "    <tr>\n",
       "      <th>4</th>\n",
       "      <td>49.264215</td>\n",
       "      <td>-123.117772</td>\n",
       "      <td>9</td>\n",
       "      <td>485d4d24c803cfde829ab89699fed833</td>\n",
       "      <td>49.264215,-123.117772</td>\n",
       "    </tr>\n",
       "  </tbody>\n",
       "</table>\n",
       "</div>"
      ],
      "text/plain": [
       "    latitude   longitude  num_bikes                          uniqueId  \\\n",
       "0  49.262487 -123.114397         21  7a19c49f486d7c0c02b3685d7b240448   \n",
       "1  49.274566 -123.121817          9  32603a87cfca71d0f7dfa3513bad69d5   \n",
       "2  49.279764 -123.110154         13  6d42fa40360f9a6b2bf641c7b8bb2862   \n",
       "3  49.260599 -123.113504          2  66f873d641d448bd1572ab086665a458   \n",
       "4  49.264215 -123.117772          9  485d4d24c803cfde829ab89699fed833   \n",
       "\n",
       "                      ll  \n",
       "0  49.262487,-123.114397  \n",
       "1  49.274566,-123.121817  \n",
       "2  49.279764,-123.110154  \n",
       "3  49.260599,-123.113504  \n",
       "4  49.264215,-123.117772  "
      ]
     },
     "execution_count": 2,
     "metadata": {},
     "output_type": "execute_result"
    }
   ],
   "source": [
    "# retriave the vancouver citybike dataframe from part 1 \n",
    "data = pd.read_csv(\"van_citybike.csv\", encoding=\"unicode_escape\")\n",
    "\n",
    "# preparing data\n",
    "data.dropna(subset=['latitude', 'longitude'], inplace=True)\n",
    "\n",
    "# creation of variable with lon and lat together\n",
    "data['ll'] = data['latitude'].astype(str) + ',' + data['longitude'].astype(str)\n",
    "data = data[data['ll'] != '0.0,0.0']\n",
    "grouped_data = data.groupby('uniqueId').size().reset_index(name='counts')\n",
    "print(data.shape)\n",
    "data.head()"
   ]
  },
  {
   "cell_type": "markdown",
   "metadata": {},
   "source": [
    "- Parse through the response to get the POI (such as restaurants, bars, etc) details "
   ]
  },
  {
   "cell_type": "code",
   "execution_count": 22,
   "metadata": {
    "tags": []
   },
   "outputs": [],
   "source": [
    "# Send a request to Foursquare with a small radius (1000m) for all the bike stations in Vancouver\n",
    "# get the radious about restaurants\n",
    "foursquare_id = \"TAMSX5GBYXAXCBADOSI3RUTWAKIHHPFYZ3DNIAPQPSYV12V2\"\n",
    "foursquare_secret = \"HMYVJ2HJS3DAFB14RLWEFBCXMCPX4TDAIU4WFWJKGVHGST5J\"\n",
    "foursquare_api = \"fsq3FsRyQ029fd1ZezLaFUjtUO2OKefDbsiMekNXFn4/8Hg=\"\n",
    "\n",
    "def get_venues(ll):\n",
    "    url = \"https://api.foursquare.com/v3/places/search?\"\n",
    "    headers = {\n",
    "       \"accept\": \"application/json\",\n",
    "        \"Authorization\": foursquare_api,\n",
    "    }\n",
    "    params = {\n",
    "        \"ll\": ll,\n",
    "        \"radius\": 1000,\n",
    "        \"client_id\": foursquare_id,\n",
    "        \"client_secret\": foursquare_secret,\n",
    "        \"v\": '2022-02-25',\n",
    "        \"limit\":50, # because foursquare only can let us access less than or equal to 50\n",
    "        \"categories\": 13065\n",
    "    }\n",
    "    response = requests.get(url, headers=headers, params=params)\n",
    "    results = json.loads(response.text)\n",
    "    return len(results['results'])\n",
    "    "
   ]
  },
  {
   "cell_type": "markdown",
   "metadata": {},
   "source": [
    "- Put your parsed results into a DataFrame"
   ]
  },
  {
   "cell_type": "code",
   "execution_count": 23,
   "metadata": {
    "tags": []
   },
   "outputs": [],
   "source": [
    "# would like to retrieve the latitude and longitude from van_citybike dataframe \n",
    "def get_lat_lng(row):\n",
    "    ll = row['ll']\n",
    "    return get_venues(ll)\n",
    "\n",
    "new_data = data.apply(get_lat_lng, axis=1)\n",
    "\n",
    "# would like to combine the results from foursquare into a new van_citybike dataframe\n",
    "van_data = pd.concat([data, new_data], axis=1)\n",
    "van_data = van_data.rename(columns={0: 'restaurants'})"
   ]
  },
  {
   "cell_type": "code",
   "execution_count": 24,
   "metadata": {
    "tags": []
   },
   "outputs": [
    {
     "data": {
      "text/html": [
       "<div>\n",
       "<style scoped>\n",
       "    .dataframe tbody tr th:only-of-type {\n",
       "        vertical-align: middle;\n",
       "    }\n",
       "\n",
       "    .dataframe tbody tr th {\n",
       "        vertical-align: top;\n",
       "    }\n",
       "\n",
       "    .dataframe thead th {\n",
       "        text-align: right;\n",
       "    }\n",
       "</style>\n",
       "<table border=\"1\" class=\"dataframe\">\n",
       "  <thead>\n",
       "    <tr style=\"text-align: right;\">\n",
       "      <th></th>\n",
       "      <th>latitude</th>\n",
       "      <th>longitude</th>\n",
       "      <th>num_bikes</th>\n",
       "      <th>uniqueId</th>\n",
       "      <th>ll</th>\n",
       "      <th>restaurants</th>\n",
       "    </tr>\n",
       "  </thead>\n",
       "  <tbody>\n",
       "    <tr>\n",
       "      <th>0</th>\n",
       "      <td>49.262487</td>\n",
       "      <td>-123.114397</td>\n",
       "      <td>21</td>\n",
       "      <td>7a19c49f486d7c0c02b3685d7b240448</td>\n",
       "      <td>49.262487,-123.114397</td>\n",
       "      <td>50</td>\n",
       "    </tr>\n",
       "    <tr>\n",
       "      <th>1</th>\n",
       "      <td>49.274566</td>\n",
       "      <td>-123.121817</td>\n",
       "      <td>9</td>\n",
       "      <td>32603a87cfca71d0f7dfa3513bad69d5</td>\n",
       "      <td>49.274566,-123.121817</td>\n",
       "      <td>50</td>\n",
       "    </tr>\n",
       "    <tr>\n",
       "      <th>2</th>\n",
       "      <td>49.279764</td>\n",
       "      <td>-123.110154</td>\n",
       "      <td>13</td>\n",
       "      <td>6d42fa40360f9a6b2bf641c7b8bb2862</td>\n",
       "      <td>49.279764,-123.110154</td>\n",
       "      <td>50</td>\n",
       "    </tr>\n",
       "    <tr>\n",
       "      <th>3</th>\n",
       "      <td>49.260599</td>\n",
       "      <td>-123.113504</td>\n",
       "      <td>2</td>\n",
       "      <td>66f873d641d448bd1572ab086665a458</td>\n",
       "      <td>49.260599,-123.113504</td>\n",
       "      <td>50</td>\n",
       "    </tr>\n",
       "    <tr>\n",
       "      <th>4</th>\n",
       "      <td>49.264215</td>\n",
       "      <td>-123.117772</td>\n",
       "      <td>9</td>\n",
       "      <td>485d4d24c803cfde829ab89699fed833</td>\n",
       "      <td>49.264215,-123.117772</td>\n",
       "      <td>46</td>\n",
       "    </tr>\n",
       "    <tr>\n",
       "      <th>5</th>\n",
       "      <td>49.270877</td>\n",
       "      <td>-123.115103</td>\n",
       "      <td>11</td>\n",
       "      <td>b07d513f87897cff7319a0e59d7e567c</td>\n",
       "      <td>49.270877,-123.115103</td>\n",
       "      <td>50</td>\n",
       "    </tr>\n",
       "    <tr>\n",
       "      <th>6</th>\n",
       "      <td>49.268930</td>\n",
       "      <td>-123.118130</td>\n",
       "      <td>2</td>\n",
       "      <td>d1c9556d92f329703229fb3e33899a3b</td>\n",
       "      <td>49.26893,-123.11813</td>\n",
       "      <td>50</td>\n",
       "    </tr>\n",
       "    <tr>\n",
       "      <th>7</th>\n",
       "      <td>49.271721</td>\n",
       "      <td>-123.104207</td>\n",
       "      <td>7</td>\n",
       "      <td>95e624191c655f50e401d280cd39a9ad</td>\n",
       "      <td>49.271721,-123.104207</td>\n",
       "      <td>50</td>\n",
       "    </tr>\n",
       "    <tr>\n",
       "      <th>8</th>\n",
       "      <td>49.287214</td>\n",
       "      <td>-123.112870</td>\n",
       "      <td>20</td>\n",
       "      <td>3e112f9fe877e0003780386359060ae6</td>\n",
       "      <td>49.287214,-123.11287</td>\n",
       "      <td>50</td>\n",
       "    </tr>\n",
       "    <tr>\n",
       "      <th>9</th>\n",
       "      <td>49.282409</td>\n",
       "      <td>-123.118541</td>\n",
       "      <td>11</td>\n",
       "      <td>6993b3dbb0758927967592ea612a2b1e</td>\n",
       "      <td>49.282409,-123.118541</td>\n",
       "      <td>50</td>\n",
       "    </tr>\n",
       "    <tr>\n",
       "      <th>10</th>\n",
       "      <td>49.287097</td>\n",
       "      <td>-123.118551</td>\n",
       "      <td>13</td>\n",
       "      <td>bf8408067b0e0c963f3ff526977bcef3</td>\n",
       "      <td>49.287097,-123.118551</td>\n",
       "      <td>50</td>\n",
       "    </tr>\n",
       "    <tr>\n",
       "      <th>11</th>\n",
       "      <td>49.273471</td>\n",
       "      <td>-123.118016</td>\n",
       "      <td>20</td>\n",
       "      <td>d2244f1a81d317c76cabd65e81250835</td>\n",
       "      <td>49.273471,-123.118016</td>\n",
       "      <td>50</td>\n",
       "    </tr>\n",
       "    <tr>\n",
       "      <th>12</th>\n",
       "      <td>49.282758</td>\n",
       "      <td>-123.122092</td>\n",
       "      <td>7</td>\n",
       "      <td>0b543fc4e694fe07a54dac48bb1b3390</td>\n",
       "      <td>49.282758,-123.122092</td>\n",
       "      <td>50</td>\n",
       "    </tr>\n",
       "    <tr>\n",
       "      <th>13</th>\n",
       "      <td>49.286042</td>\n",
       "      <td>-123.113176</td>\n",
       "      <td>21</td>\n",
       "      <td>1b4c6f63f4bfbbd983992dbdca776865</td>\n",
       "      <td>49.286042,-123.113176</td>\n",
       "      <td>50</td>\n",
       "    </tr>\n",
       "    <tr>\n",
       "      <th>14</th>\n",
       "      <td>49.286020</td>\n",
       "      <td>-123.116624</td>\n",
       "      <td>19</td>\n",
       "      <td>fbb1d30d7f30b049873f5be5688563d4</td>\n",
       "      <td>49.28602,-123.116624</td>\n",
       "      <td>50</td>\n",
       "    </tr>\n",
       "  </tbody>\n",
       "</table>\n",
       "</div>"
      ],
      "text/plain": [
       "     latitude   longitude  num_bikes                          uniqueId  \\\n",
       "0   49.262487 -123.114397         21  7a19c49f486d7c0c02b3685d7b240448   \n",
       "1   49.274566 -123.121817          9  32603a87cfca71d0f7dfa3513bad69d5   \n",
       "2   49.279764 -123.110154         13  6d42fa40360f9a6b2bf641c7b8bb2862   \n",
       "3   49.260599 -123.113504          2  66f873d641d448bd1572ab086665a458   \n",
       "4   49.264215 -123.117772          9  485d4d24c803cfde829ab89699fed833   \n",
       "5   49.270877 -123.115103         11  b07d513f87897cff7319a0e59d7e567c   \n",
       "6   49.268930 -123.118130          2  d1c9556d92f329703229fb3e33899a3b   \n",
       "7   49.271721 -123.104207          7  95e624191c655f50e401d280cd39a9ad   \n",
       "8   49.287214 -123.112870         20  3e112f9fe877e0003780386359060ae6   \n",
       "9   49.282409 -123.118541         11  6993b3dbb0758927967592ea612a2b1e   \n",
       "10  49.287097 -123.118551         13  bf8408067b0e0c963f3ff526977bcef3   \n",
       "11  49.273471 -123.118016         20  d2244f1a81d317c76cabd65e81250835   \n",
       "12  49.282758 -123.122092          7  0b543fc4e694fe07a54dac48bb1b3390   \n",
       "13  49.286042 -123.113176         21  1b4c6f63f4bfbbd983992dbdca776865   \n",
       "14  49.286020 -123.116624         19  fbb1d30d7f30b049873f5be5688563d4   \n",
       "\n",
       "                       ll  restaurants  \n",
       "0   49.262487,-123.114397           50  \n",
       "1   49.274566,-123.121817           50  \n",
       "2   49.279764,-123.110154           50  \n",
       "3   49.260599,-123.113504           50  \n",
       "4   49.264215,-123.117772           46  \n",
       "5   49.270877,-123.115103           50  \n",
       "6     49.26893,-123.11813           50  \n",
       "7   49.271721,-123.104207           50  \n",
       "8    49.287214,-123.11287           50  \n",
       "9   49.282409,-123.118541           50  \n",
       "10  49.287097,-123.118551           50  \n",
       "11  49.273471,-123.118016           50  \n",
       "12  49.282758,-123.122092           50  \n",
       "13  49.286042,-123.113176           50  \n",
       "14   49.28602,-123.116624           50  "
      ]
     },
     "execution_count": 24,
     "metadata": {},
     "output_type": "execute_result"
    }
   ],
   "source": [
    "van_data.head(15)"
   ]
  },
  {
   "cell_type": "code",
   "execution_count": 40,
   "metadata": {
    "tags": []
   },
   "outputs": [
    {
     "data": {
      "text/plain": [
       "(241, 6)"
      ]
     },
     "execution_count": 40,
     "metadata": {},
     "output_type": "execute_result"
    }
   ],
   "source": [
    "van_data.shape"
   ]
  },
  {
   "cell_type": "code",
   "execution_count": 42,
   "metadata": {
    "tags": []
   },
   "outputs": [],
   "source": [
    "van_data.to_csv('van_data.csv', index=False)"
   ]
  },
  {
   "cell_type": "markdown",
   "metadata": {},
   "source": [
    "# Yelp"
   ]
  },
  {
   "cell_type": "markdown",
   "metadata": {},
   "source": [
    "- Send a request to Yelp with a small radius (1000m) for all the bike stations in Vancouver.\n",
    "\n",
    "- Parse through the response to get the POI (I choose: restaurants) with details (I choose: ratings, name and address)"
   ]
  },
  {
   "cell_type": "code",
   "execution_count": 35,
   "metadata": {
    "tags": []
   },
   "outputs": [],
   "source": [
    "# Define the variables for making the Yelp API request (like my API Key and the Endpoint etc.)\n",
    "API_KEY = 'vpJ0jYuVqTBcy4mgoFH9wziDTFd73-L8qIYs3at-7WMnrUL0fcKYI7bQjJr2ZFYxpPAhdMvB23dJ54FpL8Gn08bpVgWg64YgI38pUZz5CsUXj7_mybwQy6iinIf6Y3Yx'\n",
    "API_ENDPOINT = 'https://api.yelp.com/v3/businesses/search'\n",
    "SEARCH_RADIUS = 1000\n",
    "SEARCH_CATEGORIES = 'restaurants'\n",
    "SORT_BY = 'rating'\n",
    "SEARCH_LIMIT = 50\n",
    "\n",
    "# Initialize an empty list to store the Yelp data\n",
    "yelp_data = []\n",
    "\n",
    "# Loop over each row in my van_citybike dataframe which named: data\n",
    "for index, row in data.iterrows():\n",
    "    # Extract the latitude and longitude coordinates for the current row\n",
    "    latitude, longitude = row['latitude'], row['longitude']\n",
    "    \n",
    "    # Send a request to the Yelp API depending the variables\n",
    "    headers = {'Authorization': 'Bearer ' + API_KEY}\n",
    "    params = {'latitude': latitude, 'longitude': longitude, 'radius': SEARCH_RADIUS, 'categories': SEARCH_CATEGORIES, 'sort_by': SORT_BY, 'limit': SEARCH_LIMIT}\n",
    "    response = requests.get(API_ENDPOINT, headers=headers, params=params)\n",
    "    \n",
    "    # Check if the request was successful\n",
    "    if response.status_code == 200:\n",
    "        for business in response.json()['businesses']:\n",
    "            yelp_data.append({\n",
    "                'latitude': latitude,\n",
    "                'longitude': longitude,\n",
    "                'name': business['name'],\n",
    "                'rating': business['rating'],\n",
    "                'address': ', '.join(business['location']['display_address'])\n",
    "            })\n",
    "    else:\n",
    "        # Print an error message if the request failed\n",
    "        print(f'Request failed for bike station {index} ({latitude}, {longitude}): {response.status_code}')\n",
    "\n",
    "# Create a pandas dataframe from the Yelp data\n",
    "yelp_for_citybike = pd.DataFrame(yelp_data)"
   ]
  },
  {
   "cell_type": "markdown",
   "metadata": {},
   "source": [
    "Put your parsed results into a DataFrame"
   ]
  },
  {
   "cell_type": "code",
   "execution_count": 36,
   "metadata": {
    "tags": []
   },
   "outputs": [
    {
     "data": {
      "text/html": [
       "<div>\n",
       "<style scoped>\n",
       "    .dataframe tbody tr th:only-of-type {\n",
       "        vertical-align: middle;\n",
       "    }\n",
       "\n",
       "    .dataframe tbody tr th {\n",
       "        vertical-align: top;\n",
       "    }\n",
       "\n",
       "    .dataframe thead th {\n",
       "        text-align: right;\n",
       "    }\n",
       "</style>\n",
       "<table border=\"1\" class=\"dataframe\">\n",
       "  <thead>\n",
       "    <tr style=\"text-align: right;\">\n",
       "      <th></th>\n",
       "      <th>latitude</th>\n",
       "      <th>longitude</th>\n",
       "      <th>name</th>\n",
       "      <th>rating</th>\n",
       "      <th>address</th>\n",
       "    </tr>\n",
       "  </thead>\n",
       "  <tbody>\n",
       "    <tr>\n",
       "      <th>0</th>\n",
       "      <td>49.262487</td>\n",
       "      <td>-123.114397</td>\n",
       "      <td>The Golden Horn Turkish Bakery &amp; Cafe</td>\n",
       "      <td>5.0</td>\n",
       "      <td>2857 Cambie Street, Vancouver, BC V5Z 3Y8, Canada</td>\n",
       "    </tr>\n",
       "    <tr>\n",
       "      <th>1</th>\n",
       "      <td>49.262487</td>\n",
       "      <td>-123.114397</td>\n",
       "      <td>Blaze Gourmet Burgers</td>\n",
       "      <td>5.0</td>\n",
       "      <td>43 E 5th Avenue, Vancouver, BC V5T 1G7, Canada</td>\n",
       "    </tr>\n",
       "    <tr>\n",
       "      <th>2</th>\n",
       "      <td>49.262487</td>\n",
       "      <td>-123.114397</td>\n",
       "      <td>Pizza Rubato Napoletana</td>\n",
       "      <td>5.0</td>\n",
       "      <td>561 W Broadway, Vancouver, BC V5Z 1E6, Canada</td>\n",
       "    </tr>\n",
       "    <tr>\n",
       "      <th>3</th>\n",
       "      <td>49.262487</td>\n",
       "      <td>-123.114397</td>\n",
       "      <td>Jitlada</td>\n",
       "      <td>5.0</td>\n",
       "      <td>118 W 6th Avenue, Vancouver, BC V5Y 1K6, Canada</td>\n",
       "    </tr>\n",
       "    <tr>\n",
       "      <th>4</th>\n",
       "      <td>49.262487</td>\n",
       "      <td>-123.114397</td>\n",
       "      <td>Pizzamia Gourmet Pizza Bar</td>\n",
       "      <td>4.5</td>\n",
       "      <td>407 W Broadway, Vancouver, BC V5Y 1R4, Canada</td>\n",
       "    </tr>\n",
       "    <tr>\n",
       "      <th>5</th>\n",
       "      <td>49.262487</td>\n",
       "      <td>-123.114397</td>\n",
       "      <td>La Taqueria Food Truck</td>\n",
       "      <td>4.5</td>\n",
       "      <td>Vancouver, BC, Canada</td>\n",
       "    </tr>\n",
       "    <tr>\n",
       "      <th>6</th>\n",
       "      <td>49.262487</td>\n",
       "      <td>-123.114397</td>\n",
       "      <td>Happy Wood BBQ House</td>\n",
       "      <td>4.5</td>\n",
       "      <td>967 West Broadway, Vancouver, BC V5Z 1K3, Canada</td>\n",
       "    </tr>\n",
       "    <tr>\n",
       "      <th>7</th>\n",
       "      <td>49.262487</td>\n",
       "      <td>-123.114397</td>\n",
       "      <td>Convivial Cafe and Bakery</td>\n",
       "      <td>4.5</td>\n",
       "      <td>680A Leg In Boot Square, Vancouver, BC V5Z 4B4...</td>\n",
       "    </tr>\n",
       "    <tr>\n",
       "      <th>8</th>\n",
       "      <td>49.262487</td>\n",
       "      <td>-123.114397</td>\n",
       "      <td>Superbaba</td>\n",
       "      <td>4.5</td>\n",
       "      <td>2419 Main St, Vancouver, BC V5T 3E1, Canada</td>\n",
       "    </tr>\n",
       "    <tr>\n",
       "      <th>9</th>\n",
       "      <td>49.262487</td>\n",
       "      <td>-123.114397</td>\n",
       "      <td>Rolling Cashew</td>\n",
       "      <td>4.5</td>\n",
       "      <td>401 Industrial Avenue, Vancouver, BC V6A 2P8, ...</td>\n",
       "    </tr>\n",
       "  </tbody>\n",
       "</table>\n",
       "</div>"
      ],
      "text/plain": [
       "    latitude   longitude                                   name  rating  \\\n",
       "0  49.262487 -123.114397  The Golden Horn Turkish Bakery & Cafe     5.0   \n",
       "1  49.262487 -123.114397                  Blaze Gourmet Burgers     5.0   \n",
       "2  49.262487 -123.114397                Pizza Rubato Napoletana     5.0   \n",
       "3  49.262487 -123.114397                                Jitlada     5.0   \n",
       "4  49.262487 -123.114397             Pizzamia Gourmet Pizza Bar     4.5   \n",
       "5  49.262487 -123.114397                 La Taqueria Food Truck     4.5   \n",
       "6  49.262487 -123.114397                   Happy Wood BBQ House     4.5   \n",
       "7  49.262487 -123.114397              Convivial Cafe and Bakery     4.5   \n",
       "8  49.262487 -123.114397                              Superbaba     4.5   \n",
       "9  49.262487 -123.114397                         Rolling Cashew     4.5   \n",
       "\n",
       "                                             address  \n",
       "0  2857 Cambie Street, Vancouver, BC V5Z 3Y8, Canada  \n",
       "1     43 E 5th Avenue, Vancouver, BC V5T 1G7, Canada  \n",
       "2      561 W Broadway, Vancouver, BC V5Z 1E6, Canada  \n",
       "3    118 W 6th Avenue, Vancouver, BC V5Y 1K6, Canada  \n",
       "4      407 W Broadway, Vancouver, BC V5Y 1R4, Canada  \n",
       "5                              Vancouver, BC, Canada  \n",
       "6   967 West Broadway, Vancouver, BC V5Z 1K3, Canada  \n",
       "7  680A Leg In Boot Square, Vancouver, BC V5Z 4B4...  \n",
       "8        2419 Main St, Vancouver, BC V5T 3E1, Canada  \n",
       "9  401 Industrial Avenue, Vancouver, BC V6A 2P8, ...  "
      ]
     },
     "execution_count": 36,
     "metadata": {},
     "output_type": "execute_result"
    }
   ],
   "source": [
    "yelp_for_citybike.head(10)"
   ]
  },
  {
   "cell_type": "code",
   "execution_count": 39,
   "metadata": {
    "tags": []
   },
   "outputs": [
    {
     "data": {
      "text/plain": [
       "(11803, 5)"
      ]
     },
     "execution_count": 39,
     "metadata": {},
     "output_type": "execute_result"
    }
   ],
   "source": [
    "yelp_for_citybike.shape"
   ]
  },
  {
   "cell_type": "code",
   "execution_count": 41,
   "metadata": {
    "tags": []
   },
   "outputs": [],
   "source": [
    "yelp_for_citybike.to_csv('yelp_for_citybike.csv', index=False)"
   ]
  },
  {
   "cell_type": "markdown",
   "metadata": {},
   "source": [
    "# Comparing Results"
   ]
  },
  {
   "cell_type": "markdown",
   "metadata": {},
   "source": [
    "Which API provided you with more complete data? Provide an explanation. "
   ]
  },
  {
   "cell_type": "markdown",
   "metadata": {},
   "source": [
    "Definetly the Yelp API got more scores than Foursquare API.\n",
    "Yelp API can give a lot of details,such as name, address, rating, reviews, current status, etc. But the Foursquare only can provide us the location without any information. "
   ]
  },
  {
   "cell_type": "markdown",
   "metadata": {},
   "source": [
    "Get the top 10 restaurants according to their rating"
   ]
  },
  {
   "cell_type": "code",
   "execution_count": 38,
   "metadata": {
    "tags": []
   },
   "outputs": [
    {
     "data": {
      "text/html": [
       "<div>\n",
       "<style scoped>\n",
       "    .dataframe tbody tr th:only-of-type {\n",
       "        vertical-align: middle;\n",
       "    }\n",
       "\n",
       "    .dataframe tbody tr th {\n",
       "        vertical-align: top;\n",
       "    }\n",
       "\n",
       "    .dataframe thead th {\n",
       "        text-align: right;\n",
       "    }\n",
       "</style>\n",
       "<table border=\"1\" class=\"dataframe\">\n",
       "  <thead>\n",
       "    <tr style=\"text-align: right;\">\n",
       "      <th></th>\n",
       "      <th>latitude</th>\n",
       "      <th>longitude</th>\n",
       "      <th>name</th>\n",
       "      <th>rating</th>\n",
       "      <th>address</th>\n",
       "    </tr>\n",
       "  </thead>\n",
       "  <tbody>\n",
       "    <tr>\n",
       "      <th>0</th>\n",
       "      <td>49.262487</td>\n",
       "      <td>-123.114397</td>\n",
       "      <td>The Golden Horn Turkish Bakery &amp; Cafe</td>\n",
       "      <td>5.0</td>\n",
       "      <td>2857 Cambie Street, Vancouver, BC V5Z 3Y8, Canada</td>\n",
       "    </tr>\n",
       "    <tr>\n",
       "      <th>8501</th>\n",
       "      <td>49.278210</td>\n",
       "      <td>-123.136972</td>\n",
       "      <td>Caffe Mira</td>\n",
       "      <td>5.0</td>\n",
       "      <td>1225 Burrard St, Vancouver, BC V6Z 1Z5, Canada</td>\n",
       "    </tr>\n",
       "    <tr>\n",
       "      <th>8541</th>\n",
       "      <td>49.278210</td>\n",
       "      <td>-123.136972</td>\n",
       "      <td>Union Latino’s</td>\n",
       "      <td>5.0</td>\n",
       "      <td>1149 Granville Street, Vancouver, BC V6Z 1M1, ...</td>\n",
       "    </tr>\n",
       "    <tr>\n",
       "      <th>8537</th>\n",
       "      <td>49.278210</td>\n",
       "      <td>-123.136972</td>\n",
       "      <td>Gringo</td>\n",
       "      <td>5.0</td>\n",
       "      <td>1074 Davie Street, Vancouver, BC V6E 1M3, Canada</td>\n",
       "    </tr>\n",
       "    <tr>\n",
       "      <th>8536</th>\n",
       "      <td>49.278210</td>\n",
       "      <td>-123.136972</td>\n",
       "      <td>Freshslice Pizza</td>\n",
       "      <td>5.0</td>\n",
       "      <td>1764 Davie Street, Vancouver, BC V6G 1W2, Canada</td>\n",
       "    </tr>\n",
       "    <tr>\n",
       "      <th>8517</th>\n",
       "      <td>49.278210</td>\n",
       "      <td>-123.136972</td>\n",
       "      <td>Tru Cafe</td>\n",
       "      <td>5.0</td>\n",
       "      <td>1500 West 2nd Avenue, Vancouver, BC V6J 5C5, C...</td>\n",
       "    </tr>\n",
       "    <tr>\n",
       "      <th>8506</th>\n",
       "      <td>49.278210</td>\n",
       "      <td>-123.136972</td>\n",
       "      <td>Number e food</td>\n",
       "      <td>5.0</td>\n",
       "      <td>1308 Burrard Street, Vancouver, BC V6Z 2B7, Ca...</td>\n",
       "    </tr>\n",
       "    <tr>\n",
       "      <th>8505</th>\n",
       "      <td>49.278210</td>\n",
       "      <td>-123.136972</td>\n",
       "      <td>inBtwn Cafe</td>\n",
       "      <td>5.0</td>\n",
       "      <td>1625 Hornby Street, Suite 101, Vancouver, BC V...</td>\n",
       "    </tr>\n",
       "    <tr>\n",
       "      <th>8504</th>\n",
       "      <td>49.278210</td>\n",
       "      <td>-123.136972</td>\n",
       "      <td>Manoush'eh</td>\n",
       "      <td>5.0</td>\n",
       "      <td>620 Davie Street, Vancouver, BC V6B 2G5, Canada</td>\n",
       "    </tr>\n",
       "    <tr>\n",
       "      <th>8503</th>\n",
       "      <td>49.278210</td>\n",
       "      <td>-123.136972</td>\n",
       "      <td>Arike Restaurant</td>\n",
       "      <td>5.0</td>\n",
       "      <td>1725 Davie St, Vancouver, BC V6G 1W5, Canada</td>\n",
       "    </tr>\n",
       "  </tbody>\n",
       "</table>\n",
       "</div>"
      ],
      "text/plain": [
       "       latitude   longitude                                   name  rating  \\\n",
       "0     49.262487 -123.114397  The Golden Horn Turkish Bakery & Cafe     5.0   \n",
       "8501  49.278210 -123.136972                             Caffe Mira     5.0   \n",
       "8541  49.278210 -123.136972                         Union Latino’s     5.0   \n",
       "8537  49.278210 -123.136972                                 Gringo     5.0   \n",
       "8536  49.278210 -123.136972                       Freshslice Pizza     5.0   \n",
       "8517  49.278210 -123.136972                               Tru Cafe     5.0   \n",
       "8506  49.278210 -123.136972                          Number e food     5.0   \n",
       "8505  49.278210 -123.136972                            inBtwn Cafe     5.0   \n",
       "8504  49.278210 -123.136972                             Manoush'eh     5.0   \n",
       "8503  49.278210 -123.136972                       Arike Restaurant     5.0   \n",
       "\n",
       "                                                address  \n",
       "0     2857 Cambie Street, Vancouver, BC V5Z 3Y8, Canada  \n",
       "8501     1225 Burrard St, Vancouver, BC V6Z 1Z5, Canada  \n",
       "8541  1149 Granville Street, Vancouver, BC V6Z 1M1, ...  \n",
       "8537   1074 Davie Street, Vancouver, BC V6E 1M3, Canada  \n",
       "8536   1764 Davie Street, Vancouver, BC V6G 1W2, Canada  \n",
       "8517  1500 West 2nd Avenue, Vancouver, BC V6J 5C5, C...  \n",
       "8506  1308 Burrard Street, Vancouver, BC V6Z 2B7, Ca...  \n",
       "8505  1625 Hornby Street, Suite 101, Vancouver, BC V...  \n",
       "8504    620 Davie Street, Vancouver, BC V6B 2G5, Canada  \n",
       "8503       1725 Davie St, Vancouver, BC V6G 1W5, Canada  "
      ]
     },
     "execution_count": 38,
     "metadata": {},
     "output_type": "execute_result"
    }
   ],
   "source": [
    "top_restaurants = yelp_for_citybike.sort_values(by='rating', ascending=False).head(10)\n",
    "top_restaurants"
   ]
  },
  {
   "cell_type": "code",
   "execution_count": null,
   "metadata": {},
   "outputs": [],
   "source": []
  }
 ],
 "metadata": {
  "kernelspec": {
   "display_name": "Python 3 (ipykernel)",
   "language": "python",
   "name": "python3"
  },
  "language_info": {
   "codemirror_mode": {
    "name": "ipython",
    "version": 3
   },
   "file_extension": ".py",
   "mimetype": "text/x-python",
   "name": "python",
   "nbconvert_exporter": "python",
   "pygments_lexer": "ipython3",
   "version": "3.10.9"
  }
 },
 "nbformat": 4,
 "nbformat_minor": 4
}
